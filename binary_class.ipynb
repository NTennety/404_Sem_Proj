{
  "cells": [
    {
      "cell_type": "code",
      "execution_count": 18,
      "id": "f9b32f90",
      "metadata": {
        "id": "f9b32f90"
      },
      "outputs": [],
      "source": [
        "import os\n",
        "import pandas as pd\n",
        "import cv2\n",
        "import numpy as np\n",
        "from sklearn.model_selection import train_test_split\n",
        "import tensorflow as tf\n",
        "from tensorflow.keras.preprocessing.image import load_img, img_to_array\n",
        "from sklearn.metrics import f1_score\n",
        "#"
      ]
    },
    {
      "cell_type": "code",
      "execution_count": 19,
      "id": "a661a93f",
      "metadata": {
        "id": "a661a93f"
      },
      "outputs": [
        {
          "data": {
            "application/vnd.microsoft.datawrangler.viewer.v0+json": {
              "columns": [
                {
                  "name": "index",
                  "rawType": "int64",
                  "type": "integer"
                },
                {
                  "name": "Image Index",
                  "rawType": "object",
                  "type": "string"
                },
                {
                  "name": "Finding Labels",
                  "rawType": "object",
                  "type": "unknown"
                },
                {
                  "name": "Follow-up #",
                  "rawType": "int64",
                  "type": "integer"
                },
                {
                  "name": "Patient ID",
                  "rawType": "int64",
                  "type": "integer"
                },
                {
                  "name": "Patient Age",
                  "rawType": "int64",
                  "type": "integer"
                },
                {
                  "name": "Patient Gender",
                  "rawType": "object",
                  "type": "string"
                },
                {
                  "name": "View Position",
                  "rawType": "object",
                  "type": "string"
                },
                {
                  "name": "OriginalImage[Width",
                  "rawType": "int64",
                  "type": "integer"
                },
                {
                  "name": "Height]",
                  "rawType": "int64",
                  "type": "integer"
                },
                {
                  "name": "OriginalImagePixelSpacing[x",
                  "rawType": "float64",
                  "type": "float"
                },
                {
                  "name": "y]",
                  "rawType": "float64",
                  "type": "float"
                },
                {
                  "name": "Is_Finding",
                  "rawType": "int64",
                  "type": "integer"
                }
              ],
              "conversionMethod": "pd.DataFrame",
              "ref": "136f4c54-c081-4e3a-88bb-ae382a4dcfd5",
              "rows": [
                [
                  "0",
                  "00000001_000.png",
                  "['Cardiomegaly']",
                  "0",
                  "1",
                  "57",
                  "M",
                  "PA",
                  "2682",
                  "2749",
                  "0.143",
                  "0.143",
                  "1"
                ],
                [
                  "1",
                  "00000001_001.png",
                  "['Cardiomegaly', 'Emphysema']",
                  "1",
                  "1",
                  "58",
                  "M",
                  "PA",
                  "2894",
                  "2729",
                  "0.143",
                  "0.143",
                  "1"
                ],
                [
                  "2",
                  "00000001_002.png",
                  "['Cardiomegaly', 'Effusion']",
                  "2",
                  "1",
                  "58",
                  "M",
                  "PA",
                  "2500",
                  "2048",
                  "0.168",
                  "0.168",
                  "1"
                ],
                [
                  "3",
                  "00000002_000.png",
                  "['No Finding']",
                  "0",
                  "2",
                  "80",
                  "M",
                  "PA",
                  "2500",
                  "2048",
                  "0.171",
                  "0.171",
                  "0"
                ],
                [
                  "4",
                  "00000003_001.png",
                  "['Hernia']",
                  "0",
                  "3",
                  "74",
                  "F",
                  "PA",
                  "2500",
                  "2048",
                  "0.168",
                  "0.168",
                  "1"
                ]
              ],
              "shape": {
                "columns": 12,
                "rows": 5
              }
            },
            "text/html": [
              "<div>\n",
              "<style scoped>\n",
              "    .dataframe tbody tr th:only-of-type {\n",
              "        vertical-align: middle;\n",
              "    }\n",
              "\n",
              "    .dataframe tbody tr th {\n",
              "        vertical-align: top;\n",
              "    }\n",
              "\n",
              "    .dataframe thead th {\n",
              "        text-align: right;\n",
              "    }\n",
              "</style>\n",
              "<table border=\"1\" class=\"dataframe\">\n",
              "  <thead>\n",
              "    <tr style=\"text-align: right;\">\n",
              "      <th></th>\n",
              "      <th>Image Index</th>\n",
              "      <th>Finding Labels</th>\n",
              "      <th>Follow-up #</th>\n",
              "      <th>Patient ID</th>\n",
              "      <th>Patient Age</th>\n",
              "      <th>Patient Gender</th>\n",
              "      <th>View Position</th>\n",
              "      <th>OriginalImage[Width</th>\n",
              "      <th>Height]</th>\n",
              "      <th>OriginalImagePixelSpacing[x</th>\n",
              "      <th>y]</th>\n",
              "      <th>Is_Finding</th>\n",
              "    </tr>\n",
              "  </thead>\n",
              "  <tbody>\n",
              "    <tr>\n",
              "      <th>0</th>\n",
              "      <td>00000001_000.png</td>\n",
              "      <td>[Cardiomegaly]</td>\n",
              "      <td>0</td>\n",
              "      <td>1</td>\n",
              "      <td>57</td>\n",
              "      <td>M</td>\n",
              "      <td>PA</td>\n",
              "      <td>2682</td>\n",
              "      <td>2749</td>\n",
              "      <td>0.143</td>\n",
              "      <td>0.143</td>\n",
              "      <td>1</td>\n",
              "    </tr>\n",
              "    <tr>\n",
              "      <th>1</th>\n",
              "      <td>00000001_001.png</td>\n",
              "      <td>[Cardiomegaly, Emphysema]</td>\n",
              "      <td>1</td>\n",
              "      <td>1</td>\n",
              "      <td>58</td>\n",
              "      <td>M</td>\n",
              "      <td>PA</td>\n",
              "      <td>2894</td>\n",
              "      <td>2729</td>\n",
              "      <td>0.143</td>\n",
              "      <td>0.143</td>\n",
              "      <td>1</td>\n",
              "    </tr>\n",
              "    <tr>\n",
              "      <th>2</th>\n",
              "      <td>00000001_002.png</td>\n",
              "      <td>[Cardiomegaly, Effusion]</td>\n",
              "      <td>2</td>\n",
              "      <td>1</td>\n",
              "      <td>58</td>\n",
              "      <td>M</td>\n",
              "      <td>PA</td>\n",
              "      <td>2500</td>\n",
              "      <td>2048</td>\n",
              "      <td>0.168</td>\n",
              "      <td>0.168</td>\n",
              "      <td>1</td>\n",
              "    </tr>\n",
              "    <tr>\n",
              "      <th>3</th>\n",
              "      <td>00000002_000.png</td>\n",
              "      <td>[No Finding]</td>\n",
              "      <td>0</td>\n",
              "      <td>2</td>\n",
              "      <td>80</td>\n",
              "      <td>M</td>\n",
              "      <td>PA</td>\n",
              "      <td>2500</td>\n",
              "      <td>2048</td>\n",
              "      <td>0.171</td>\n",
              "      <td>0.171</td>\n",
              "      <td>0</td>\n",
              "    </tr>\n",
              "    <tr>\n",
              "      <th>4</th>\n",
              "      <td>00000003_001.png</td>\n",
              "      <td>[Hernia]</td>\n",
              "      <td>0</td>\n",
              "      <td>3</td>\n",
              "      <td>74</td>\n",
              "      <td>F</td>\n",
              "      <td>PA</td>\n",
              "      <td>2500</td>\n",
              "      <td>2048</td>\n",
              "      <td>0.168</td>\n",
              "      <td>0.168</td>\n",
              "      <td>1</td>\n",
              "    </tr>\n",
              "  </tbody>\n",
              "</table>\n",
              "</div>"
            ],
            "text/plain": [
              "        Image Index             Finding Labels  Follow-up #  Patient ID  \\\n",
              "0  00000001_000.png             [Cardiomegaly]            0           1   \n",
              "1  00000001_001.png  [Cardiomegaly, Emphysema]            1           1   \n",
              "2  00000001_002.png   [Cardiomegaly, Effusion]            2           1   \n",
              "3  00000002_000.png               [No Finding]            0           2   \n",
              "4  00000003_001.png                   [Hernia]            0           3   \n",
              "\n",
              "   Patient Age Patient Gender View Position  OriginalImage[Width  Height]  \\\n",
              "0           57              M            PA                 2682     2749   \n",
              "1           58              M            PA                 2894     2729   \n",
              "2           58              M            PA                 2500     2048   \n",
              "3           80              M            PA                 2500     2048   \n",
              "4           74              F            PA                 2500     2048   \n",
              "\n",
              "   OriginalImagePixelSpacing[x     y]  Is_Finding  \n",
              "0                        0.143  0.143           1  \n",
              "1                        0.143  0.143           1  \n",
              "2                        0.168  0.168           1  \n",
              "3                        0.171  0.171           0  \n",
              "4                        0.168  0.168           1  "
            ]
          },
          "execution_count": 19,
          "metadata": {},
          "output_type": "execute_result"
        }
      ],
      "source": [
        "data_path = \"../Downloads/CXR8/Data_Entry_2017_v2020.csv\"\n",
        "\n",
        "df = pd.read_csv(data_path)\n",
        "\n",
        "df['Finding Labels'] = df['Finding Labels'].str.split('|')\n",
        "df['Is_Finding'] = df['Finding Labels'].apply(lambda x: 1 if x != ['No Finding'] else 0)\n",
        "\n",
        "df.head()"
      ]
    },
    {
      "cell_type": "code",
      "execution_count": 20,
      "id": "36d800e3",
      "metadata": {
        "id": "36d800e3"
      },
      "outputs": [],
      "source": [
        "images_folder = \"../Downloads/CXR8/images\""
      ]
    },
    {
      "cell_type": "code",
      "execution_count": 21,
      "id": "18466e08",
      "metadata": {
        "id": "18466e08"
      },
      "outputs": [],
      "source": [
        "X_train_val, X_test, y_train_val, y_test = train_test_split(df['Image Index'], df[\"Is_Finding\"], test_size=0.2, random_state = 42)\n",
        "X_train, X_val, y_train, y_val = train_test_split(X_train_val, y_train_val, test_size = 0.2, random_state = 42)\n"
      ]
    },
    {
      "cell_type": "code",
      "execution_count": 22,
      "id": "50e0d8c6",
      "metadata": {
        "id": "50e0d8c6"
      },
      "outputs": [],
      "source": [
        "def preprocess_image(image_path, img_size=(224, 224)):\n",
        "    clean_path = ''.join(c for c in image_path if c.isprintable())\n",
        "\n",
        "    img = load_img(clean_path, target_size=img_size)\n",
        "    img_array = img_to_array(img)\n",
        "\n",
        "    img_array = img_array / 255.0\n",
        "    return img_array\n",
        "\n",
        "def image_generator(image_indices, labels, batch_size=32, img_size=(224, 224), image_dir='images_folder'):\n",
        "    num_samples = len(image_indices)\n",
        "    while True:\n",
        "\n",
        "        indices = np.random.permutation(num_samples)\n",
        "        for i in range(0, num_samples, batch_size):\n",
        "            batch_indices = indices[i:i+batch_size]\n",
        "            batch_images = []\n",
        "            batch_labels = []\n",
        "\n",
        "            for idx in batch_indices:\n",
        "                image_index = image_indices.iloc[idx]\n",
        "\n",
        "                image_index = str(image_index).strip()\n",
        "\n",
        "                image_path = os.path.join(image_dir, image_index)\n",
        "\n",
        "                try:\n",
        "                    img_array = preprocess_image(image_path, img_size)\n",
        "                    batch_images.append(img_array)\n",
        "                    #\n",
        "                    batch_labels.append(labels.iloc[idx])\n",
        "                except Exception as e:\n",
        "                    #print(f\"Error processing image {image_path}: {e}\")\n",
        "                    continue\n",
        "\n",
        "            if batch_images:\n",
        "                yield np.array(batch_images), np.array(batch_labels)"
      ]
    },
    {
      "cell_type": "code",
      "execution_count": 23,
      "id": "e0edbc6b",
      "metadata": {
        "id": "e0edbc6b"
      },
      "outputs": [],
      "source": [
        "from tensorflow.keras.applications import DenseNet121\n",
        "from tensorflow.keras.layers import Dense, GlobalAveragePooling2D\n",
        "from tensorflow.keras.models import Model\n",
        "\n",
        "def create_model(input_shape=(224, 224, 3), num_classes = 1):\n",
        "    base_model = DenseNet121(weights='imagenet', include_top=False, input_shape = input_shape)\n",
        "\n",
        "    x = base_model.output\n",
        "    x = GlobalAveragePooling2D()(x)\n",
        "    x = Dense(256, activation='relu')(x)\n",
        "    predictions = Dense(1, activation='sigmoid')(x)\n",
        "\n",
        "    model = Model(inputs=base_model.input, outputs=predictions)\n",
        "\n",
        "    for layer in base_model.layers:\n",
        "        layer.trainable=False\n",
        "\n",
        "    return model"
      ]
    },
    {
      "cell_type": "code",
      "execution_count": 25,
      "id": "2d398c59",
      "metadata": {
        "colab": {
          "base_uri": "https://localhost:8080/",
          "height": 207
        },
        "id": "2d398c59",
        "outputId": "daae4342-6aba-4066-e805-d4ce23277bc7"
      },
      "outputs": [
        {
          "name": "stdout",
          "output_type": "stream",
          "text": [
            "Epoch 1/5\n",
            "\u001b[1m4484/4484\u001b[0m \u001b[32m━━━━━━━━━━━━━━━━━━━━\u001b[0m\u001b[37m\u001b[0m \u001b[1m3597s\u001b[0m 801ms/step - auc: 0.6819 - binary_acc: 0.6405 - loss: 0.6463 - precision: 0.6167 - recall: 0.5776 - val_auc: 0.7287 - val_binary_acc: 0.6657 - val_loss: 0.6211 - val_precision: 0.6090 - val_recall: 0.7436\n",
            "Epoch 2/5\n",
            "\u001b[1m4484/4484\u001b[0m \u001b[32m━━━━━━━━━━━━━━━━━━━━\u001b[0m\u001b[37m\u001b[0m \u001b[1m2272s\u001b[0m 507ms/step - auc: 0.7201 - binary_acc: 0.6727 - loss: 0.6144 - precision: 0.6506 - recall: 0.6200 - val_auc: 0.7323 - val_binary_acc: 0.6770 - val_loss: 0.6115 - val_precision: 0.6407 - val_recall: 0.6620\n",
            "Epoch 3/5\n",
            "\u001b[1m4484/4484\u001b[0m \u001b[32m━━━━━━━━━━━━━━━━━━━━\u001b[0m\u001b[37m\u001b[0m \u001b[1m2342s\u001b[0m 522ms/step - auc: 0.7230 - binary_acc: 0.6737 - loss: 0.6127 - precision: 0.6542 - recall: 0.6243 - val_auc: 0.7329 - val_binary_acc: 0.6668 - val_loss: 0.6189 - val_precision: 0.6091 - val_recall: 0.7498\n",
            "Epoch 4/5\n",
            "\u001b[1m4484/4484\u001b[0m \u001b[32m━━━━━━━━━━━━━━━━━━━━\u001b[0m\u001b[37m\u001b[0m \u001b[1m2289s\u001b[0m 511ms/step - auc: 0.7284 - binary_acc: 0.6780 - loss: 0.6085 - precision: 0.6568 - recall: 0.6301 - val_auc: 0.7336 - val_binary_acc: 0.6791 - val_loss: 0.6046 - val_precision: 0.6435 - val_recall: 0.6625\n",
            "Epoch 5/5\n",
            "\u001b[1m4484/4484\u001b[0m \u001b[32m━━━━━━━━━━━━━━━━━━━━\u001b[0m\u001b[37m\u001b[0m \u001b[1m2291s\u001b[0m 511ms/step - auc: 0.7272 - binary_acc: 0.6773 - loss: 0.6089 - precision: 0.6554 - recall: 0.6248 - val_auc: 0.7322 - val_binary_acc: 0.6780 - val_loss: 0.6048 - val_precision: 0.6497 - val_recall: 0.6357\n"
          ]
        }
      ],
      "source": [
        "model = create_model()\n",
        "\n",
        "model.compile(\n",
        "    optimizer= 'adam',\n",
        "    loss='binary_crossentropy',\n",
        "    metrics=[tf.keras.metrics.BinaryAccuracy(name='binary_acc'), tf.keras.metrics.Precision(name='precision'), tf.keras.metrics.Recall(name='recall'),tf.keras.metrics.AUC(name='auc')]\n",
        ")\n",
        "\n",
        "train_generator = image_generator(X_train, y_train, batch_size=16, image_dir=images_folder)\n",
        "val_generator = image_generator(X_val, y_val, batch_size=16, image_dir=images_folder)\n",
        "\n",
        "history = model.fit(\n",
        "    train_generator,\n",
        "    steps_per_epoch=len(X_train)//16,\n",
        "    epochs=5,\n",
        "    validation_data=val_generator,\n",
        "    validation_steps=len(X_val) // 16\n",
        ")\n"
      ]
    },
    {
      "cell_type": "code",
      "execution_count": 29,
      "id": "8fec0672",
      "metadata": {},
      "outputs": [
        {
          "name": "stdout",
          "output_type": "stream",
          "text": [
            "Epoch 1/5\n",
            "\u001b[1m4484/4484\u001b[0m \u001b[32m━━━━━━━━━━━━━━━━━━━━\u001b[0m\u001b[37m\u001b[0m \u001b[1m2278s\u001b[0m 507ms/step - auc: 0.7246 - binary_acc: 0.6765 - loss: 0.6110 - precision: 0.6579 - recall: 0.6138 - val_auc: 0.7499 - val_binary_acc: 0.6935 - val_loss: 0.5907 - val_precision: 0.6605 - val_recall: 0.6736\n",
            "Epoch 2/5\n",
            "\u001b[1m4484/4484\u001b[0m \u001b[32m━━━━━━━━━━━━━━━━━━━━\u001b[0m\u001b[37m\u001b[0m \u001b[1m2295s\u001b[0m 512ms/step - auc: 0.7459 - binary_acc: 0.6923 - loss: 0.5937 - precision: 0.6715 - recall: 0.6451 - val_auc: 0.7454 - val_binary_acc: 0.6709 - val_loss: 0.6172 - val_precision: 0.6090 - val_recall: 0.7759\n",
            "Epoch 3/5\n",
            "\u001b[1m4484/4484\u001b[0m \u001b[32m━━━━━━━━━━━━━━━━━━━━\u001b[0m\u001b[37m\u001b[0m \u001b[1m2307s\u001b[0m 514ms/step - auc: 0.7494 - binary_acc: 0.6942 - loss: 0.5910 - precision: 0.6733 - recall: 0.6504 - val_auc: 0.7539 - val_binary_acc: 0.6908 - val_loss: 0.5959 - val_precision: 0.6992 - val_recall: 0.5670\n",
            "Epoch 4/5\n",
            "\u001b[1m4484/4484\u001b[0m \u001b[32m━━━━━━━━━━━━━━━━━━━━\u001b[0m\u001b[37m\u001b[0m \u001b[1m2295s\u001b[0m 512ms/step - auc: 0.7589 - binary_acc: 0.7026 - loss: 0.5830 - precision: 0.6827 - recall: 0.6611 - val_auc: 0.7535 - val_binary_acc: 0.6921 - val_loss: 0.5910 - val_precision: 0.6553 - val_recall: 0.6809\n",
            "Epoch 5/5\n",
            "\u001b[1m4484/4484\u001b[0m \u001b[32m━━━━━━━━━━━━━━━━━━━━\u001b[0m\u001b[37m\u001b[0m \u001b[1m2287s\u001b[0m 510ms/step - auc: 0.7682 - binary_acc: 0.7082 - loss: 0.5739 - precision: 0.6853 - recall: 0.6726 - val_auc: 0.7468 - val_binary_acc: 0.6922 - val_loss: 0.5975 - val_precision: 0.6609 - val_recall: 0.6670\n"
          ]
        }
      ],
      "source": [
        "\n",
        "# for layer in model.layers[0].layers[-20:]:\n",
        "#     layer.trainable = True\n",
        "\n",
        "for layer in model.layers[-20:]:\n",
        "    layer.trainable = True\n",
        "\n",
        "\n",
        "model.compile(\n",
        "    optimizer= 'adam',\n",
        "    loss='binary_crossentropy',\n",
        "    metrics=[tf.keras.metrics.BinaryAccuracy(name='binary_acc'), tf.keras.metrics.Precision(name='precision'), tf.keras.metrics.Recall(name='recall'),tf.keras.metrics.AUC(name='auc')]\n",
        ")\n",
        "\n",
        "history_fine_tune = model.fit(\n",
        "    train_generator,\n",
        "    steps_per_epoch=len(X_train)//16,\n",
        "    epochs=5,\n",
        "    validation_data=val_generator,\n",
        "    validation_steps=len(X_val)//16\n",
        ")\n"
      ]
    },
    {
      "cell_type": "code",
      "execution_count": 62,
      "id": "1aaa6830",
      "metadata": {},
      "outputs": [
        {
          "name": "stdout",
          "output_type": "stream",
          "text": [
            "21625     00005750_025.png\n",
            "29832     00007757_001.png\n",
            "109210    00029676_005.png\n",
            "67081     00016577_012.png\n",
            "51533     00013012_000.png\n",
            "                ...       \n",
            "58199     00014397_003.png\n",
            "51489     00013003_017.png\n",
            "49687     00012616_003.png\n",
            "109405    00029763_004.png\n",
            "66668     00016486_005.png\n",
            "Name: Image Index, Length: 17940, dtype: object\n"
          ]
        }
      ],
      "source": [
        "print(X_val)"
      ]
    },
    {
      "cell_type": "code",
      "execution_count": null,
      "id": "78985f2e",
      "metadata": {},
      "outputs": [
        {
          "name": "stdout",
          "output_type": "stream",
          "text": [
            "\u001b[1m4/4\u001b[0m \u001b[32m━━━━━━━━━━━━━━━━━━━━\u001b[0m\u001b[37m\u001b[0m \u001b[1m3s\u001b[0m 601ms/step\n",
            "F1: 0.28125\n"
          ]
        }
      ],
      "source": [
        "\n",
        "test_images = []\n",
        "test_labels = []\n",
        "\n",
        "\n",
        "test_generator = image_generator(X_val, y_val, batch_size=1, image_dir=images_folder)\n",
        "\n",
        "for _ in range(100):\n",
        "    img_batch, label_batch = next(test_generator)\n",
        "    test_images.append(img_batch[0])\n",
        "    test_labels.append(label_batch[0]) \n",
        "\n",
        "test_images = np.array(test_images)\n",
        "test_labels = np.array(test_labels)\n",
        "\n",
        "\n",
        "y_pred = model.predict(test_images)\n",
        "y_pred_classes = (y_pred > 0.75).astype(int)\n",
        "f1 = f1_score(y_test, y_pred_classes)\n",
        "print(\"F1:\", f1)"
      ]
    }
  ],
  "metadata": {
    "colab": {
      "provenance": []
    },
    "kernelspec": {
      "display_name": "3.11.10",
      "language": "python",
      "name": "python3"
    },
    "language_info": {
      "codemirror_mode": {
        "name": "ipython",
        "version": 3
      },
      "file_extension": ".py",
      "mimetype": "text/x-python",
      "name": "python",
      "nbconvert_exporter": "python",
      "pygments_lexer": "ipython3",
      "version": "3.11.10"
    }
  },
  "nbformat": 4,
  "nbformat_minor": 5
}
