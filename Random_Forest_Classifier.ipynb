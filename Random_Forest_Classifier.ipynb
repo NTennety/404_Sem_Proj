{
 "cells": [
  {
   "cell_type": "markdown",
   "id": "23adc2d7",
   "metadata": {},
   "source": [
    "## Imports"
   ]
  },
  {
   "cell_type": "code",
   "execution_count": 1,
   "id": "04130fc9",
   "metadata": {},
   "outputs": [],
   "source": [
    "import numpy as np\n",
    "import os\n",
    "import pandas as pd\n",
    "\n",
    "from PIL import Image\n",
    "from sklearn.ensemble import RandomForestClassifier\n",
    "from sklearn.metrics import accuracy_score, classification_report\n",
    "from sklearn.model_selection import train_test_split\n",
    "from sklearn.multiclass import OneVsRestClassifier\n",
    "from sklearn.preprocessing import MultiLabelBinarizer"
   ]
  },
  {
   "cell_type": "markdown",
   "id": "9c65955d",
   "metadata": {},
   "source": [
    "## Dataset Loading"
   ]
  },
  {
   "cell_type": "code",
   "execution_count": 2,
   "id": "193b161b",
   "metadata": {},
   "outputs": [],
   "source": [
    "labels_test = pd.read_csv('miccai2023_nih-cxr-lt_labels_test.csv')\n",
    "labels_train = pd.read_csv('miccai2023_nih-cxr-lt_labels_train.csv')\n",
    "labels_val = pd.read_csv('miccai2023_nih-cxr-lt_labels_val.csv')\n",
    "\n",
    "combined = pd.concat([labels_test, labels_train, labels_val])\n",
    "combined = combined.sort_values(by=['id'])\n",
    "combined = combined.reset_index(drop = True)"
   ]
  },
  {
   "cell_type": "markdown",
   "id": "4ad2fc91",
   "metadata": {},
   "source": [
    "## Dataset Generating"
   ]
  },
  {
   "cell_type": "code",
   "execution_count": null,
   "id": "7ee30e01",
   "metadata": {},
   "outputs": [],
   "source": [
    "# Images were split into multiple folders when downloading\n",
    "folder_paths = [\"images\", \"images 2\", \"images 3\", \"images 4\", \"images 5\", \"images 6\", \"images 7\", \"images 8\", \"images 9\", \"images 10\", \"images 11\", \"images 12\"]\n",
    "image_data = []\n",
    "disease_names = combined.columns[1:21]\n",
    "image_names = []\n",
    "diseases_found = []\n",
    "\n",
    "# For every folder that contains images\n",
    "for folder_path in folder_paths:\n",
    "\n",
    "    # Get list of image files\n",
    "    image_files = [f for f in os.listdir(folder_path) if f.endswith('.png')]\n",
    "\n",
    "    # Initialize list to store image data\n",
    "    for i in range(len(image_files)):\n",
    "        img_path = os.path.join(folder_path, image_files[i])\n",
    "        img = Image.open(img_path).convert('L')\n",
    "        img.thumbnail((64, 64), Image.ANTIALIAS)\n",
    "        img_array = np.array(img).flatten()\n",
    "        for disease in disease_names:\n",
    "            if int(combined[combined[\"id\"]==image_files[i]][disease]) == 1:\n",
    "                image_data.append(img_array)\n",
    "                diseases_found.append(disease)\n",
    "                image_names.append(image_files[i])\n",
    "                \n",
    "df = pd.DataFrame(image_data)\n",
    "df[\"File Name\"] = image_names\n",
    "df[\"Disease\"] = diseases_found\n",
    "df = df.sort_values(by=['File Name'])\n",
    "\n",
    "df.to_csv(\"all_testing_image_dataset_with_duplicates.csv\", index=False)"
   ]
  },
  {
   "cell_type": "code",
   "execution_count": null,
   "id": "894221e3",
   "metadata": {},
   "outputs": [],
   "source": [
    "# Binary Dataset\n",
    "folder_paths = [\"images\", \"images 2\", \"images 3\", \"images 4\", \"images 5\", \"images 6\", \"images 7\", \"images 8\", \"images 9\", \"images 10\", \"images 11\", \"images 12\"]\n",
    "image_data = []\n",
    "disease_names = combined.columns[1:21]\n",
    "image_names = []\n",
    "diseases_found = []\n",
    "\n",
    "for folder_path in folder_paths:\n",
    "\n",
    "    # Get list of image files\n",
    "    image_files = [f for f in os.listdir(folder_path) if f.endswith('.png')]\n",
    "\n",
    "    # Initialize list to store image data\n",
    "    for i in range(len(image_files)):\n",
    "        img_path = os.path.join(folder_path, image_files[i])\n",
    "        img = Image.open(img_path).convert('L')# Convert to grayscale\n",
    "        img.thumbnail((64, 64), Image.ANTIALIAS)\n",
    "        img_array = np.array(img).flatten()  # Flatten the image into 1D\n",
    "        image_data.append(img_array)\n",
    "        image_names.append(image_files[i])\n",
    "        if int(combined[combined[\"id\"]==image_files[i]][\"No Finding\"]) == 1:\n",
    "            diseases_found.append(0)\n",
    "        else:\n",
    "            diseases_found.append(1)\n",
    "                \n",
    "df = pd.DataFrame(image_data)\n",
    "df[\"File Name\"] = image_names\n",
    "df[\"Disease Found\"] = diseases_found\n",
    "df = df.sort_values(by=['File Name'])\n",
    "\n",
    "df.to_csv(\"binary_dataset.csv\", index=False)"
   ]
  },
  {
   "cell_type": "markdown",
   "id": "b0e9cb10",
   "metadata": {},
   "source": [
    "# Random Forest Classifier Models"
   ]
  },
  {
   "cell_type": "code",
   "execution_count": 3,
   "id": "6d6710b9",
   "metadata": {},
   "outputs": [
    {
     "name": "stdout",
     "output_type": "stream",
     "text": [
      "Accuracy: 0.22346542884855203\n",
      "\n",
      "Classification Report:\n",
      "               precision    recall  f1-score   support\n",
      "\n",
      "           0       0.00      0.00      0.00      2320\n",
      "           1       0.00      0.00      0.00        97\n",
      "           2       0.00      0.00      0.00       584\n",
      "           3       0.00      0.00      0.00       935\n",
      "           4       0.00      0.00      0.00       426\n",
      "           5       0.00      0.00      0.00      2669\n",
      "           6       0.00      0.00      0.00       500\n",
      "           7       0.00      0.00      0.00       378\n",
      "           8       0.00      0.00      0.00        55\n",
      "           9       0.00      0.00      0.00      3942\n",
      "          10       0.00      0.00      0.00      1169\n",
      "          11       0.67      0.55      0.60     11836\n",
      "          12       0.00      0.00      0.00      1270\n",
      "          13       0.00      0.00      0.00       630\n",
      "          14       0.00      0.00      0.00        51\n",
      "          15       0.00      0.00      0.00       311\n",
      "          16       0.00      0.00      0.00        64\n",
      "          17       0.00      0.00      0.00      1126\n",
      "          18       0.00      0.00      0.00       358\n",
      "          19       0.00      0.00      0.00       147\n",
      "\n",
      "   micro avg       0.67      0.22      0.33     28868\n",
      "   macro avg       0.03      0.03      0.03     28868\n",
      "weighted avg       0.27      0.22      0.25     28868\n",
      " samples avg       0.22      0.22      0.22     28868\n",
      "\n"
     ]
    }
   ],
   "source": [
    "# Prepare the data\n",
    "def prepare_data(df):\n",
    "    \n",
    "    X = df.iloc[:, 0:4096].values\n",
    "    \n",
    "    y = df['Disease'].apply(lambda x: x.split(',') if isinstance(x, str) else [x])\n",
    "    \n",
    "    mlb = MultiLabelBinarizer()\n",
    "    y_encoded = mlb.fit_transform(y)\n",
    "    \n",
    "    disease_classes = mlb.classes_\n",
    "    \n",
    "    return X, y_encoded, disease_classes\n",
    "\n",
    "# Build and train the model\n",
    "def build_model(X, y):\n",
    "    \n",
    "    X_train, X_test, y_train, y_test = train_test_split(X, y, test_size = 0.2, random_state = 42)\n",
    "    \n",
    "    # Random Forest Classifier\n",
    "    base_classifier = RandomForestClassifier(n_estimators = 100, max_depth = 10, random_state = 42, n_jobs = -1)\n",
    "    \n",
    "    # Multi-Label Classification\n",
    "    model = OneVsRestClassifier(base_classifier)\n",
    "    \n",
    "    model.fit(X_train, y_train)\n",
    "    \n",
    "    y_pred = model.predict(X_test)\n",
    "    print(\"Accuracy:\", accuracy_score(y_test, y_pred))\n",
    "    print(\"\\nClassification Report:\\n\", classification_report(y_test, y_pred))\n",
    "    \n",
    "    return model, X_test, y_test\n",
    "\n",
    "df = pd.read_csv('all_testing_image_dataset_with_duplicates.csv')\n",
    "X, y_encoded, disease_classes = prepare_data(df)\n",
    "X = X / 255.0\n",
    "model, X_test, y_test = build_model(X, y_encoded)"
   ]
  },
  {
   "cell_type": "code",
   "execution_count": 3,
   "id": "7b441f14",
   "metadata": {},
   "outputs": [
    {
     "name": "stdout",
     "output_type": "stream",
     "text": [
      "Accuracy: 0.6497056724937567\n",
      "\n",
      "Classification Report:\n",
      "               precision    recall  f1-score   support\n",
      "\n",
      "           0       0.65      0.74      0.69     11974\n",
      "           1       0.65      0.55      0.59     10450\n",
      "\n",
      "   micro avg       0.65      0.65      0.65     22424\n",
      "   macro avg       0.65      0.64      0.64     22424\n",
      "weighted avg       0.65      0.65      0.65     22424\n",
      " samples avg       0.65      0.65      0.65     22424\n",
      "\n"
     ]
    }
   ],
   "source": [
    "# Prepare the data\n",
    "def prepare_data(df):\n",
    "    \n",
    "    X = df.iloc[:, 0:4096].values  # Pixel values\n",
    "    \n",
    "    y = df['Disease Found'].apply(lambda x: x.split(',') if isinstance(x, str) else [x])\n",
    "    \n",
    "    mlb = MultiLabelBinarizer()\n",
    "    y_encoded = mlb.fit_transform(y)\n",
    "    \n",
    "    disease_classes = mlb.classes_\n",
    "    \n",
    "    return X, y_encoded, disease_classes\n",
    "\n",
    "# Build and train the model\n",
    "def build_model(X, y):\n",
    "    \n",
    "    X_train, X_test, y_train, y_test = train_test_split(X, y, test_size = 0.2, random_state = 42)\n",
    "    \n",
    "    # Random Forest Classifier\n",
    "    model = RandomForestClassifier(n_estimators = 100, max_depth = 10, random_state = 42, n_jobs = -1)\n",
    "    \n",
    "    model.fit(X_train, y_train)\n",
    "    \n",
    "    y_pred = model.predict(X_test)\n",
    "    print(\"Accuracy:\", accuracy_score(y_test, y_pred))\n",
    "    print(\"\\nClassification Report:\\n\", classification_report(y_test, y_pred))\n",
    "    \n",
    "    return model, X_test, y_test\n",
    "\n",
    "df = pd.read_csv('binary_dataset.csv')\n",
    "X, y_encoded, disease_classes = prepare_data(df)\n",
    "X = X / 255.0\n",
    "model, X_test, y_test = build_model(X, y_encoded)"
   ]
  }
 ],
 "metadata": {
  "kernelspec": {
   "display_name": "Python 3 (ipykernel)",
   "language": "python",
   "name": "python3"
  },
  "language_info": {
   "codemirror_mode": {
    "name": "ipython",
    "version": 3
   },
   "file_extension": ".py",
   "mimetype": "text/x-python",
   "name": "python",
   "nbconvert_exporter": "python",
   "pygments_lexer": "ipython3",
   "version": "3.11.4"
  }
 },
 "nbformat": 4,
 "nbformat_minor": 5
}
