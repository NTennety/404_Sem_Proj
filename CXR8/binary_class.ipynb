{
  "cells": [
    {
      "cell_type": "code",
      "execution_count": null,
      "id": "f9b32f90",
      "metadata": {
        "id": "f9b32f90"
      },
      "outputs": [],
      "source": [
        "import os\n",
        "import pandas as pd\n",
        "import cv2\n",
        "import numpy as np\n",
        "from sklearn.model_selection import train_test_split\n",
        "import tensorflow as tf\n",
        "from tensorflow.keras.preprocessing.image import load_img, img_to_array\n",
        "from sklearn.metrics import f1_score\n",
        "#"
      ]
    },
    {
      "cell_type": "code",
      "execution_count": null,
      "id": "a661a93f",
      "metadata": {
        "id": "a661a93f"
      },
      "outputs": [],
      "source": [
        "data_path = \"Data_Entry_2017_v2020.csv\"\n",
        "\n",
        "df = pd.read_csv(data_path)\n",
        "\n",
        "df['Finding Labels'] = df['Finding Labels'].str.split('|')\n",
        "df['Is_Finding'] = df['Finding Labels'].apply(lambda x: 1 if x != ['No Finding'] else 0)\n",
        "\n",
        "df.head()"
      ]
    },
    {
      "cell_type": "code",
      "execution_count": null,
      "id": "36d800e3",
      "metadata": {
        "id": "36d800e3"
      },
      "outputs": [],
      "source": [
        "images_folder = \"images\""
      ]
    },
    {
      "cell_type": "code",
      "execution_count": null,
      "id": "18466e08",
      "metadata": {
        "id": "18466e08"
      },
      "outputs": [],
      "source": [
        "X_train_val, X_test, y_train_val, y_test = train_test_split(df['Image Index'], df[\"Is_Finding\"], test_size=0.2, random_state = 42)\n",
        "X_train, X_val, y_train, y_val = train_test_split(X_train_val, y_train_val, test_size = 0.2, random_state = 42)\n"
      ]
    },
    {
      "cell_type": "code",
      "execution_count": null,
      "id": "50e0d8c6",
      "metadata": {
        "id": "50e0d8c6"
      },
      "outputs": [],
      "source": [
        "def preprocess_image(image_path, img_size=(224, 224)):\n",
        "    clean_path = ''.join(c for c in image_path if c.isprintable())\n",
        "\n",
        "    img = load_img(clean_path, target_size=img_size)\n",
        "    img_array = img_to_array(img)\n",
        "\n",
        "    img_array = img_array / 255.0\n",
        "    return img_array\n",
        "\n",
        "def image_generator(image_indices, labels, batch_size=32, img_size=(224, 224), image_dir='images_folder'):\n",
        "    num_samples = len(image_indices)\n",
        "    while True:\n",
        "\n",
        "        indices = np.random.permutation(num_samples)\n",
        "        for i in range(0, num_samples, batch_size):\n",
        "            batch_indices = indices[i:i+batch_size]\n",
        "            batch_images = []\n",
        "            batch_labels = []\n",
        "\n",
        "            for idx in batch_indices:\n",
        "                image_index = image_indices.iloc[idx]\n",
        "\n",
        "                image_index = str(image_index).strip()\n",
        "\n",
        "                image_path = os.path.join(image_dir, image_index)\n",
        "\n",
        "                try:\n",
        "                    img_array = preprocess_image(image_path, img_size)\n",
        "                    batch_images.append(img_array)\n",
        "                    #\n",
        "                    batch_labels.append(labels.iloc[idx])\n",
        "                except Exception as e:\n",
        "                    print(f\"Error processing image {image_path}: {e}\")\n",
        "                    continue\n",
        "\n",
        "            if batch_images:\n",
        "                yield np.array(batch_images), np.array(batch_labels)"
      ]
    },
    {
      "cell_type": "code",
      "execution_count": null,
      "id": "e0edbc6b",
      "metadata": {
        "id": "e0edbc6b"
      },
      "outputs": [],
      "source": [
        "from tensorflow.keras.applications import DenseNet121\n",
        "from tensorflow.keras.layers import Dense, GlobalAveragePooling2D\n",
        "from tensorflow.keras.models import Model\n",
        "\n",
        "def create_model(input_shape=(224, 224, 3), num_classes = 1):\n",
        "    base_model = DenseNet121(weights='imagenet', include_top=False, input_shape = input_shape)\n",
        "\n",
        "    x = base_model.output\n",
        "    x = GlobalAveragePooling2D()(x)\n",
        "    x = Dense(256, activation='relu')(x)\n",
        "    predictions = Dense(1, activation='sigmoid')(x)\n",
        "\n",
        "    model = Model(inputs=base_model.input, outputs=predictions)\n",
        "\n",
        "    for layer in base_model.layers:\n",
        "        layer.trainable=False\n",
        "\n",
        "    return model"
      ]
    },
    {
      "cell_type": "code",
      "execution_count": null,
      "id": "2d398c59",
      "metadata": {
        "colab": {
          "base_uri": "https://localhost:8080/",
          "height": 207
        },
        "id": "2d398c59",
        "outputId": "daae4342-6aba-4066-e805-d4ce23277bc7"
      },
      "outputs": [
        {
          "output_type": "error",
          "ename": "NameError",
          "evalue": "name 'create_model' is not defined",
          "traceback": [
            "\u001b[0;31m---------------------------------------------------------------------------\u001b[0m",
            "\u001b[0;31mNameError\u001b[0m                                 Traceback (most recent call last)",
            "\u001b[0;32m<ipython-input-1-aa62d6b07a08>\u001b[0m in \u001b[0;36m<cell line: 0>\u001b[0;34m()\u001b[0m\n\u001b[0;32m----> 1\u001b[0;31m \u001b[0mmodel\u001b[0m \u001b[0;34m=\u001b[0m \u001b[0mcreate_model\u001b[0m\u001b[0;34m(\u001b[0m\u001b[0;34m)\u001b[0m\u001b[0;34m\u001b[0m\u001b[0;34m\u001b[0m\u001b[0m\n\u001b[0m\u001b[1;32m      2\u001b[0m \u001b[0;34m\u001b[0m\u001b[0m\n\u001b[1;32m      3\u001b[0m model.compile(\n\u001b[1;32m      4\u001b[0m     \u001b[0moptimizer\u001b[0m\u001b[0;34m=\u001b[0m \u001b[0;34m'adam'\u001b[0m\u001b[0;34m,\u001b[0m\u001b[0;34m\u001b[0m\u001b[0;34m\u001b[0m\u001b[0m\n\u001b[1;32m      5\u001b[0m     \u001b[0mloss\u001b[0m\u001b[0;34m=\u001b[0m\u001b[0;34m'binary_crossentropy'\u001b[0m\u001b[0;34m,\u001b[0m\u001b[0;34m\u001b[0m\u001b[0;34m\u001b[0m\u001b[0m\n",
            "\u001b[0;31mNameError\u001b[0m: name 'create_model' is not defined"
          ]
        }
      ],
      "source": [
        "model = create_model()\n",
        "\n",
        "model.compile(\n",
        "    optimizer= 'adam',\n",
        "    loss='binary_crossentropy',\n",
        "    metrics=[tf.keras.metrics.BinaryAccuracy(name='binary_acc'), tf.keras.metrics.Precision(name='precision'), tf.keras.metrics.Recall(name='recall'),tf.keras.metrics.AUC(name='auc')]\n",
        ")\n",
        "\n",
        "train_generator = image_generator(X_train, y_train, batch_size=16, image_dir=images_folder)\n",
        "val_generator = image_generator(X_val, y_val, batch_size=16, image_dir=images_folder)\n",
        "\n",
        "history = model.fit(\n",
        "    train_generator,\n",
        "    steps_per_epoch=len(X_train)//16,\n",
        "    epochs=5,\n",
        "    validation_data=val_generator,\n",
        "    validation_steps=len(X_val) // 16\n",
        ")\n",
        "\n",
        "for layer in model.layers[0].layers[-20:]:\n",
        "    layer.trainable = True\n",
        "\n",
        "\n",
        "model.compile(\n",
        "    optimizer= 'adam',\n",
        "    loss='binary_crossentropy',\n",
        "    metrics=[tf.keras.metrics.BinaryAccuracy(name='binary_acc'), tf.keras.metrics.Precision(name='precision'), tf.keras.metrics.Recall(name='recall'),tf.keras.metrics.AUC(name='auc')]\n",
        ")\n",
        "\n",
        "history_fine_tune = model.fit(\n",
        "    train_generator,\n",
        "    steps_per_epoch=len(X_train)//16,\n",
        "    epochs=5,\n",
        "    validation_data=val_generator,\n",
        "    validation_steps=len(X_val)//16\n",
        ")\n",
        "\n",
        "y_pred = model.predict(X_val)\n",
        "y_pred_classes = (y_pred > 0.75).astype(int)\n",
        "f1 = f1_score(y_val, y_pred_classes)\n",
        "print(\"F1:\", f1)"
      ]
    },
    {
      "cell_type": "code",
      "execution_count": null,
      "id": "c66a819b",
      "metadata": {
        "id": "c66a819b"
      },
      "outputs": [],
      "source": []
    },
    {
      "cell_type": "code",
      "execution_count": null,
      "id": "fe2a8651-6140-47d5-82cd-727cc609c9a8",
      "metadata": {
        "id": "fe2a8651-6140-47d5-82cd-727cc609c9a8"
      },
      "outputs": [],
      "source": []
    }
  ],
  "metadata": {
    "kernelspec": {
      "display_name": "Python 3 (ipykernel)",
      "language": "python",
      "name": "python3"
    },
    "language_info": {
      "codemirror_mode": {
        "name": "ipython",
        "version": 3
      },
      "file_extension": ".py",
      "mimetype": "text/x-python",
      "name": "python",
      "nbconvert_exporter": "python",
      "pygments_lexer": "ipython3",
      "version": "3.11.7"
    },
    "colab": {
      "provenance": []
    }
  },
  "nbformat": 4,
  "nbformat_minor": 5
}